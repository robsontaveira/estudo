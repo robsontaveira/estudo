{
  "nbformat": 4,
  "nbformat_minor": 0,
  "metadata": {
    "colab": {
      "provenance": [],
      "authorship_tag": "ABX9TyOMX13HkzxAKbteYxlsdsoA",
      "include_colab_link": true
    },
    "kernelspec": {
      "name": "python3",
      "display_name": "Python 3"
    },
    "language_info": {
      "name": "python"
    }
  },
  "cells": [
    {
      "cell_type": "markdown",
      "metadata": {
        "id": "view-in-github",
        "colab_type": "text"
      },
      "source": [
        "<a href=\"https://colab.research.google.com/github/robsontaveira/estudo/blob/main/variaveisOperadores.ipynb\" target=\"_parent\"><img src=\"https://colab.research.google.com/assets/colab-badge.svg\" alt=\"Open In Colab\"/></a>"
      ]
    },
    {
      "cell_type": "markdown",
      "source": [
        "# Declarar variáveis\n",
        "\n",
        "variável é um endereço de memória onde será salvo um determinado valor a ser acessado posteriormente"
      ],
      "metadata": {
        "id": "zBHQqs2GXCSZ"
      }
    },
    {
      "cell_type": "code",
      "execution_count": null,
      "metadata": {
        "colab": {
          "base_uri": "https://localhost:8080/"
        },
        "id": "S1jJBLyzW7zC",
        "outputId": "01f88fc7-78cd-4be0-c510-61bdd42617d8"
      },
      "outputs": [
        {
          "output_type": "stream",
          "name": "stdout",
          "text": [
            "1\n",
            "Zé \n",
            " Ana \n",
            " Bia\n",
            "Bob Marley\n"
          ]
        }
      ],
      "source": [
        "# declaração de variável\n",
        "var = 1     # atribui o valor 1 para a variável var\n",
        "print(var)  #imprime na tela o valor de var\n",
        "\n",
        "# declaração múltiplas\n",
        "pessoa1, pessoa2, pessoa3 = 'Zé','Ana','Bia'\n",
        "print(pessoa1,'\\n',pessoa2,'\\n',pessoa3)\n",
        "\n",
        "# concatenação de variáveis\n",
        "nome = 'Bob'\n",
        "sobrenome = 'Marley'\n",
        "fullname = nome+' '+sobrenome\n",
        "print(fullname)"
      ]
    }
  ]
}